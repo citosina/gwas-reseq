{
 "cells": [
  {
   "cell_type": "code",
   "execution_count": 1,
   "metadata": {},
   "outputs": [],
   "source": [
    "import os\n",
    "import io\n",
    "import pandas as pd\n",
    "import numpy as np\n",
    "import subprocess\n",
    "import matplotlib.pyplot as plt"
   ]
  },
  {
   "cell_type": "code",
   "execution_count": 2,
   "metadata": {},
   "outputs": [
    {
     "name": "stdout",
     "output_type": "stream",
     "text": [
      "enter the region you want to figure:CDH1\n"
     ]
    }
   ],
   "source": [
    "region = str(input(\"enter the region you want to figure:\"))\n",
    "wd = '/mnt/Genoma/drobles/ccastaneda/gwas-reseq/lcr_filtered/regions/'+region\n",
    "os.chdir(wd)"
   ]
  },
  {
   "cell_type": "code",
   "execution_count": 3,
   "metadata": {},
   "outputs": [],
   "source": [
    "r1 = pd.read_csv('r1')\n",
    "r2 = pd.read_csv('r2')"
   ]
  },
  {
   "cell_type": "code",
   "execution_count": 4,
   "metadata": {},
   "outputs": [],
   "source": [
    "c1 = r1[(r1.Protein_position.astype(str) != 'nan' )]\n",
    "r1 = r1.drop_duplicates('Existing_variation')"
   ]
  },
  {
   "cell_type": "code",
   "execution_count": 5,
   "metadata": {},
   "outputs": [],
   "source": [
    "empty_r2test = r2.empty\n",
    "empty_c1test = c1.empty"
   ]
  },
  {
   "cell_type": "code",
   "execution_count": 6,
   "metadata": {},
   "outputs": [
    {
     "name": "stdout",
     "output_type": "stream",
     "text": [
      "r2_is_empty\n",
      "c1 is empty\n"
     ]
    }
   ],
   "source": [
    "if empty_r2test == True:\n",
    "    print('r2_is_empty')\n",
    "    if empty_c1test == True:\n",
    "        print('c1 is empty')\n",
    "        c = r1\n",
    "        s = r1\n",
    "    elif empty_c1test == False:\n",
    "        c = c1.merge(r1, right_index = True, left_index = True, how = 'outer')\n",
    "elif empty_r2test == False:\n",
    "    c2 = r2[(r2.Protein_position.astype(str) != 'nan' )]\n",
    "    r2 = r2.drop_duplicates('Existing_variation')\n",
    "    s = r1.merge(r2, how = 'outer')\n",
    "    c = c1.merge(c2, how = 'outer')\n",
    "    c['Position'] = c.GRCh38.str.split('-').str.get(0)\n",
    "    c = c.set_index('Position')\n",
    "    c = c.drop_duplicates('Existing_variation')\n",
    "    c['Protein_position'] =c.Protein_position.apply(lambda x: int(x)) \n",
    "    "
   ]
  },
  {
   "cell_type": "code",
   "execution_count": 7,
   "metadata": {},
   "outputs": [
    {
     "data": {
      "text/html": [
       "<div>\n",
       "<style scoped>\n",
       "    .dataframe tbody tr th:only-of-type {\n",
       "        vertical-align: middle;\n",
       "    }\n",
       "\n",
       "    .dataframe tbody tr th {\n",
       "        vertical-align: top;\n",
       "    }\n",
       "\n",
       "    .dataframe thead th {\n",
       "        text-align: right;\n",
       "    }\n",
       "</style>\n",
       "<table border=\"1\" class=\"dataframe\">\n",
       "  <thead>\n",
       "    <tr style=\"text-align: right;\">\n",
       "      <th></th>\n",
       "      <th>Signal</th>\n",
       "      <th>Region</th>\n",
       "      <th>Existing_variation</th>\n",
       "      <th>GRCh38</th>\n",
       "      <th>ref_alt</th>\n",
       "      <th>-logP_fisher</th>\n",
       "      <th>Consequence</th>\n",
       "      <th>Protein_position</th>\n",
       "      <th>Amino_acids</th>\n",
       "      <th>Feature</th>\n",
       "      <th>CANONICAL</th>\n",
       "      <th>OR_fisher</th>\n",
       "      <th>OR_cond1</th>\n",
       "      <th>P_fisher</th>\n",
       "      <th>P_cond1</th>\n",
       "    </tr>\n",
       "  </thead>\n",
       "  <tbody>\n",
       "    <tr>\n",
       "      <th>0</th>\n",
       "      <td>s1</td>\n",
       "      <td>CDH1</td>\n",
       "      <td>rs181642569</td>\n",
       "      <td>chr16:68770202-68770202</td>\n",
       "      <td>C_T</td>\n",
       "      <td>3.146059</td>\n",
       "      <td>intron_variant</td>\n",
       "      <td>NaN</td>\n",
       "      <td>NaN</td>\n",
       "      <td>ENST00000621016</td>\n",
       "      <td>NaN</td>\n",
       "      <td>0.1723</td>\n",
       "      <td>1.0</td>\n",
       "      <td>0.000714</td>\n",
       "      <td>1.0</td>\n",
       "    </tr>\n",
       "  </tbody>\n",
       "</table>\n",
       "</div>"
      ],
      "text/plain": [
       "  Signal Region Existing_variation                   GRCh38 ref_alt  \\\n",
       "0     s1   CDH1        rs181642569  chr16:68770202-68770202     C_T   \n",
       "\n",
       "   -logP_fisher     Consequence  Protein_position  Amino_acids  \\\n",
       "0      3.146059  intron_variant               NaN          NaN   \n",
       "\n",
       "           Feature CANONICAL  OR_fisher  OR_cond1  P_fisher  P_cond1  \n",
       "0  ENST00000621016       NaN     0.1723       1.0  0.000714      1.0  "
      ]
     },
     "execution_count": 7,
     "metadata": {},
     "output_type": "execute_result"
    }
   ],
   "source": [
    "c"
   ]
  },
  {
   "cell_type": "code",
   "execution_count": 8,
   "metadata": {},
   "outputs": [],
   "source": [
    "fisher = pd.read_csv(region +'_fisher.csv').set_index('SNP')\n",
    "col_list = [\"SNP\", \"Protein_position\", 'Amino_acids', 'Existing_variation', 'Allele']\n",
    "vep = pd.read_csv(region +'_vep.csv', usecols=col_list, low_memory = False).set_index('SNP')\n",
    "vep_coding = vep.dropna(axis = 0)\n",
    "vep = vep.drop_duplicates('Existing_variation')\n",
    "vep['Allele'] = vep.Allele.str.split('=').str.get(1)"
   ]
  },
  {
   "cell_type": "code",
   "execution_count": 9,
   "metadata": {},
   "outputs": [
    {
     "data": {
      "text/html": [
       "<div>\n",
       "<style scoped>\n",
       "    .dataframe tbody tr th:only-of-type {\n",
       "        vertical-align: middle;\n",
       "    }\n",
       "\n",
       "    .dataframe tbody tr th {\n",
       "        vertical-align: top;\n",
       "    }\n",
       "\n",
       "    .dataframe thead th {\n",
       "        text-align: right;\n",
       "    }\n",
       "</style>\n",
       "<table border=\"1\" class=\"dataframe\">\n",
       "  <thead>\n",
       "    <tr style=\"text-align: right;\">\n",
       "      <th></th>\n",
       "      <th>Allele</th>\n",
       "      <th>Protein_position</th>\n",
       "      <th>Amino_acids</th>\n",
       "      <th>Existing_variation</th>\n",
       "    </tr>\n",
       "    <tr>\n",
       "      <th>SNP</th>\n",
       "      <th></th>\n",
       "      <th></th>\n",
       "      <th></th>\n",
       "      <th></th>\n",
       "    </tr>\n",
       "  </thead>\n",
       "  <tbody>\n",
       "    <tr>\n",
       "      <th>chr16:68538749</th>\n",
       "      <td>G</td>\n",
       "      <td>NaN</td>\n",
       "      <td>NaN</td>\n",
       "      <td>rs529122258</td>\n",
       "    </tr>\n",
       "    <tr>\n",
       "      <th>chr16:68538758</th>\n",
       "      <td>T</td>\n",
       "      <td>NaN</td>\n",
       "      <td>NaN</td>\n",
       "      <td>rs891155727</td>\n",
       "    </tr>\n",
       "    <tr>\n",
       "      <th>chr16:68538967</th>\n",
       "      <td>-</td>\n",
       "      <td>NaN</td>\n",
       "      <td>NaN</td>\n",
       "      <td>rs765973094</td>\n",
       "    </tr>\n",
       "    <tr>\n",
       "      <th>chr16:68539112</th>\n",
       "      <td>C</td>\n",
       "      <td>NaN</td>\n",
       "      <td>NaN</td>\n",
       "      <td>rs974327573</td>\n",
       "    </tr>\n",
       "    <tr>\n",
       "      <th>chr16:68539158</th>\n",
       "      <td>G</td>\n",
       "      <td>NaN</td>\n",
       "      <td>NaN</td>\n",
       "      <td>rs200320282</td>\n",
       "    </tr>\n",
       "    <tr>\n",
       "      <th>...</th>\n",
       "      <td>...</td>\n",
       "      <td>...</td>\n",
       "      <td>...</td>\n",
       "      <td>...</td>\n",
       "    </tr>\n",
       "    <tr>\n",
       "      <th>chr16:68902190</th>\n",
       "      <td>T</td>\n",
       "      <td>NaN</td>\n",
       "      <td>NaN</td>\n",
       "      <td>rs745470719</td>\n",
       "    </tr>\n",
       "    <tr>\n",
       "      <th>chr16:68902521</th>\n",
       "      <td>A</td>\n",
       "      <td>NaN</td>\n",
       "      <td>NaN</td>\n",
       "      <td>rs761094032</td>\n",
       "    </tr>\n",
       "    <tr>\n",
       "      <th>chr16:68902573</th>\n",
       "      <td>G</td>\n",
       "      <td>NaN</td>\n",
       "      <td>NaN</td>\n",
       "      <td>rs766714645</td>\n",
       "    </tr>\n",
       "    <tr>\n",
       "      <th>chr16:68902585</th>\n",
       "      <td>T</td>\n",
       "      <td>NaN</td>\n",
       "      <td>NaN</td>\n",
       "      <td>rs1424227915</td>\n",
       "    </tr>\n",
       "    <tr>\n",
       "      <th>chr16:68910092</th>\n",
       "      <td>G</td>\n",
       "      <td>NaN</td>\n",
       "      <td>NaN</td>\n",
       "      <td>rs778079684</td>\n",
       "    </tr>\n",
       "  </tbody>\n",
       "</table>\n",
       "<p>888 rows × 4 columns</p>\n",
       "</div>"
      ],
      "text/plain": [
       "               Allele  Protein_position Amino_acids Existing_variation\n",
       "SNP                                                                   \n",
       "chr16:68538749      G               NaN         NaN        rs529122258\n",
       "chr16:68538758      T               NaN         NaN        rs891155727\n",
       "chr16:68538967      -               NaN         NaN        rs765973094\n",
       "chr16:68539112      C               NaN         NaN        rs974327573\n",
       "chr16:68539158      G               NaN         NaN        rs200320282\n",
       "...               ...               ...         ...                ...\n",
       "chr16:68902190      T               NaN         NaN        rs745470719\n",
       "chr16:68902521      A               NaN         NaN        rs761094032\n",
       "chr16:68902573      G               NaN         NaN        rs766714645\n",
       "chr16:68902585      T               NaN         NaN       rs1424227915\n",
       "chr16:68910092      G               NaN         NaN        rs778079684\n",
       "\n",
       "[888 rows x 4 columns]"
      ]
     },
     "execution_count": 9,
     "metadata": {},
     "output_type": "execute_result"
    }
   ],
   "source": [
    "vep"
   ]
  },
  {
   "cell_type": "code",
   "execution_count": 10,
   "metadata": {},
   "outputs": [],
   "source": [
    "g = pd.DataFrame()\n",
    "g['Position'] = s.GRCh38.str.split('-').str.get(0)\n",
    "g['Base change'] = s.ref_alt.apply(lambda x: str(x).replace('_', '/'))\n",
    "g = g.fillna(np.NaN)\n",
    "g = g.set_index('Position')\n",
    "g['AF in cases'] = fisher['F_A']\n",
    "g['AF in controls'] = fisher['F_U']\n",
    "g['P value'] = fisher['P']\n",
    "g['OR'] = fisher['OR']\n",
    "g = g.sort_values('P value')\n",
    "g['Existing_variation'] = vep['Existing_variation']\n",
    "g['Allele'] = vep['Allele']\n",
    "if empty_c1test == True:\n",
    "    g['Consequence'] = np.NaN\n",
    "else:\n",
    "    g['Consequence'] = c.Amino_acids.str.split('/').str.get(0) + c.Protein_position.astype(str) + c.Amino_acids.str.split('/').str.get(1)"
   ]
  },
  {
   "cell_type": "code",
   "execution_count": 11,
   "metadata": {},
   "outputs": [
    {
     "data": {
      "text/html": [
       "<div>\n",
       "<style scoped>\n",
       "    .dataframe tbody tr th:only-of-type {\n",
       "        vertical-align: middle;\n",
       "    }\n",
       "\n",
       "    .dataframe tbody tr th {\n",
       "        vertical-align: top;\n",
       "    }\n",
       "\n",
       "    .dataframe thead th {\n",
       "        text-align: right;\n",
       "    }\n",
       "</style>\n",
       "<table border=\"1\" class=\"dataframe\">\n",
       "  <thead>\n",
       "    <tr style=\"text-align: right;\">\n",
       "      <th></th>\n",
       "      <th>Allele</th>\n",
       "      <th>Protein_position</th>\n",
       "      <th>Amino_acids</th>\n",
       "      <th>Existing_variation</th>\n",
       "    </tr>\n",
       "    <tr>\n",
       "      <th>SNP</th>\n",
       "      <th></th>\n",
       "      <th></th>\n",
       "      <th></th>\n",
       "      <th></th>\n",
       "    </tr>\n",
       "  </thead>\n",
       "  <tbody>\n",
       "    <tr>\n",
       "      <th>chr16:68538749</th>\n",
       "      <td>G</td>\n",
       "      <td>NaN</td>\n",
       "      <td>NaN</td>\n",
       "      <td>rs529122258</td>\n",
       "    </tr>\n",
       "    <tr>\n",
       "      <th>chr16:68538758</th>\n",
       "      <td>T</td>\n",
       "      <td>NaN</td>\n",
       "      <td>NaN</td>\n",
       "      <td>rs891155727</td>\n",
       "    </tr>\n",
       "    <tr>\n",
       "      <th>chr16:68538967</th>\n",
       "      <td>-</td>\n",
       "      <td>NaN</td>\n",
       "      <td>NaN</td>\n",
       "      <td>rs765973094</td>\n",
       "    </tr>\n",
       "    <tr>\n",
       "      <th>chr16:68539112</th>\n",
       "      <td>C</td>\n",
       "      <td>NaN</td>\n",
       "      <td>NaN</td>\n",
       "      <td>rs974327573</td>\n",
       "    </tr>\n",
       "    <tr>\n",
       "      <th>chr16:68539158</th>\n",
       "      <td>G</td>\n",
       "      <td>NaN</td>\n",
       "      <td>NaN</td>\n",
       "      <td>rs200320282</td>\n",
       "    </tr>\n",
       "    <tr>\n",
       "      <th>...</th>\n",
       "      <td>...</td>\n",
       "      <td>...</td>\n",
       "      <td>...</td>\n",
       "      <td>...</td>\n",
       "    </tr>\n",
       "    <tr>\n",
       "      <th>chr16:68902190</th>\n",
       "      <td>T</td>\n",
       "      <td>NaN</td>\n",
       "      <td>NaN</td>\n",
       "      <td>rs745470719</td>\n",
       "    </tr>\n",
       "    <tr>\n",
       "      <th>chr16:68902521</th>\n",
       "      <td>A</td>\n",
       "      <td>NaN</td>\n",
       "      <td>NaN</td>\n",
       "      <td>rs761094032</td>\n",
       "    </tr>\n",
       "    <tr>\n",
       "      <th>chr16:68902573</th>\n",
       "      <td>G</td>\n",
       "      <td>NaN</td>\n",
       "      <td>NaN</td>\n",
       "      <td>rs766714645</td>\n",
       "    </tr>\n",
       "    <tr>\n",
       "      <th>chr16:68902585</th>\n",
       "      <td>T</td>\n",
       "      <td>NaN</td>\n",
       "      <td>NaN</td>\n",
       "      <td>rs1424227915</td>\n",
       "    </tr>\n",
       "    <tr>\n",
       "      <th>chr16:68910092</th>\n",
       "      <td>G</td>\n",
       "      <td>NaN</td>\n",
       "      <td>NaN</td>\n",
       "      <td>rs778079684</td>\n",
       "    </tr>\n",
       "  </tbody>\n",
       "</table>\n",
       "<p>888 rows × 4 columns</p>\n",
       "</div>"
      ],
      "text/plain": [
       "               Allele  Protein_position Amino_acids Existing_variation\n",
       "SNP                                                                   \n",
       "chr16:68538749      G               NaN         NaN        rs529122258\n",
       "chr16:68538758      T               NaN         NaN        rs891155727\n",
       "chr16:68538967      -               NaN         NaN        rs765973094\n",
       "chr16:68539112      C               NaN         NaN        rs974327573\n",
       "chr16:68539158      G               NaN         NaN        rs200320282\n",
       "...               ...               ...         ...                ...\n",
       "chr16:68902190      T               NaN         NaN        rs745470719\n",
       "chr16:68902521      A               NaN         NaN        rs761094032\n",
       "chr16:68902573      G               NaN         NaN        rs766714645\n",
       "chr16:68902585      T               NaN         NaN       rs1424227915\n",
       "chr16:68910092      G               NaN         NaN        rs778079684\n",
       "\n",
       "[888 rows x 4 columns]"
      ]
     },
     "execution_count": 11,
     "metadata": {},
     "output_type": "execute_result"
    }
   ],
   "source": [
    "vep"
   ]
  },
  {
   "cell_type": "code",
   "execution_count": 12,
   "metadata": {},
   "outputs": [],
   "source": [
    "to_condition = pd.read_csv('to_condition', header = None).rename(columns = {0:'Position'}).set_index('Position')"
   ]
  },
  {
   "cell_type": "code",
   "execution_count": 13,
   "metadata": {},
   "outputs": [
    {
     "data": {
      "text/html": [
       "<div>\n",
       "<style scoped>\n",
       "    .dataframe tbody tr th:only-of-type {\n",
       "        vertical-align: middle;\n",
       "    }\n",
       "\n",
       "    .dataframe tbody tr th {\n",
       "        vertical-align: top;\n",
       "    }\n",
       "\n",
       "    .dataframe thead th {\n",
       "        text-align: right;\n",
       "    }\n",
       "</style>\n",
       "<table border=\"1\" class=\"dataframe\">\n",
       "  <thead>\n",
       "    <tr style=\"text-align: right;\">\n",
       "      <th></th>\n",
       "    </tr>\n",
       "    <tr>\n",
       "      <th>Position</th>\n",
       "    </tr>\n",
       "  </thead>\n",
       "  <tbody>\n",
       "    <tr>\n",
       "      <th>chr16:68770202</th>\n",
       "    </tr>\n",
       "    <tr>\n",
       "      <th>chr16:68696612</th>\n",
       "    </tr>\n",
       "  </tbody>\n",
       "</table>\n",
       "</div>"
      ],
      "text/plain": [
       "Empty DataFrame\n",
       "Columns: []\n",
       "Index: [chr16:68770202, chr16:68696612]"
      ]
     },
     "execution_count": 13,
     "metadata": {},
     "output_type": "execute_result"
    }
   ],
   "source": [
    "to_condition"
   ]
  },
  {
   "cell_type": "code",
   "execution_count": 14,
   "metadata": {},
   "outputs": [],
   "source": [
    "to_condition['Base change'] = fisher.A1 +'/'+ fisher.A2\n",
    "to_condition['AF in cases'] = fisher.F_A\n",
    "to_condition['AF in controls'] = fisher.F_U\n",
    "to_condition['P value'] = fisher.P\n",
    "to_condition['OR'] = fisher.OR"
   ]
  },
  {
   "cell_type": "code",
   "execution_count": 15,
   "metadata": {},
   "outputs": [
    {
     "data": {
      "text/html": [
       "<div>\n",
       "<style scoped>\n",
       "    .dataframe tbody tr th:only-of-type {\n",
       "        vertical-align: middle;\n",
       "    }\n",
       "\n",
       "    .dataframe tbody tr th {\n",
       "        vertical-align: top;\n",
       "    }\n",
       "\n",
       "    .dataframe thead th {\n",
       "        text-align: right;\n",
       "    }\n",
       "</style>\n",
       "<table border=\"1\" class=\"dataframe\">\n",
       "  <thead>\n",
       "    <tr style=\"text-align: right;\">\n",
       "      <th></th>\n",
       "      <th>Base change</th>\n",
       "      <th>AF in cases</th>\n",
       "      <th>AF in controls</th>\n",
       "      <th>P value</th>\n",
       "      <th>OR</th>\n",
       "    </tr>\n",
       "    <tr>\n",
       "      <th>Position</th>\n",
       "      <th></th>\n",
       "      <th></th>\n",
       "      <th></th>\n",
       "      <th></th>\n",
       "      <th></th>\n",
       "    </tr>\n",
       "  </thead>\n",
       "  <tbody>\n",
       "    <tr>\n",
       "      <th>chr16:68770202</th>\n",
       "      <td>C/T</td>\n",
       "      <td>0.001265</td>\n",
       "      <td>0.007294</td>\n",
       "      <td>0.000714</td>\n",
       "      <td>0.1723</td>\n",
       "    </tr>\n",
       "    <tr>\n",
       "      <th>chr16:68696612</th>\n",
       "      <td>A/G</td>\n",
       "      <td>0.024790</td>\n",
       "      <td>0.037800</td>\n",
       "      <td>0.013520</td>\n",
       "      <td>0.6470</td>\n",
       "    </tr>\n",
       "  </tbody>\n",
       "</table>\n",
       "</div>"
      ],
      "text/plain": [
       "               Base change  AF in cases  AF in controls   P value      OR\n",
       "Position                                                                 \n",
       "chr16:68770202         C/T     0.001265        0.007294  0.000714  0.1723\n",
       "chr16:68696612         A/G     0.024790        0.037800  0.013520  0.6470"
      ]
     },
     "execution_count": 15,
     "metadata": {},
     "output_type": "execute_result"
    }
   ],
   "source": [
    "to_condition"
   ]
  },
  {
   "cell_type": "code",
   "execution_count": 16,
   "metadata": {},
   "outputs": [],
   "source": [
    "vep['Consequence'] = vep.Amino_acids.str.split('/').str.get(0) + vep.Protein_position.astype(str) + vep.Amino_acids.str.split('/').str.get(1)\n",
    "vep = vep.reset_index().rename(columns = {'SNP': 'Position'}).set_index('Position').drop\\\n",
    "(axis = 1, columns = {'Protein_position', 'Amino_acids'})"
   ]
  },
  {
   "cell_type": "code",
   "execution_count": 17,
   "metadata": {},
   "outputs": [],
   "source": [
    "vep = vep.drop_duplicates('Existing_variation') "
   ]
  },
  {
   "cell_type": "code",
   "execution_count": 18,
   "metadata": {},
   "outputs": [
    {
     "data": {
      "text/html": [
       "<div>\n",
       "<style scoped>\n",
       "    .dataframe tbody tr th:only-of-type {\n",
       "        vertical-align: middle;\n",
       "    }\n",
       "\n",
       "    .dataframe tbody tr th {\n",
       "        vertical-align: top;\n",
       "    }\n",
       "\n",
       "    .dataframe thead th {\n",
       "        text-align: right;\n",
       "    }\n",
       "</style>\n",
       "<table border=\"1\" class=\"dataframe\">\n",
       "  <thead>\n",
       "    <tr style=\"text-align: right;\">\n",
       "      <th></th>\n",
       "      <th>Allele</th>\n",
       "      <th>Existing_variation</th>\n",
       "      <th>Consequence</th>\n",
       "    </tr>\n",
       "    <tr>\n",
       "      <th>Position</th>\n",
       "      <th></th>\n",
       "      <th></th>\n",
       "      <th></th>\n",
       "    </tr>\n",
       "  </thead>\n",
       "  <tbody>\n",
       "    <tr>\n",
       "      <th>chr16:68538749</th>\n",
       "      <td>G</td>\n",
       "      <td>rs529122258</td>\n",
       "      <td>NaN</td>\n",
       "    </tr>\n",
       "    <tr>\n",
       "      <th>chr16:68538758</th>\n",
       "      <td>T</td>\n",
       "      <td>rs891155727</td>\n",
       "      <td>NaN</td>\n",
       "    </tr>\n",
       "    <tr>\n",
       "      <th>chr16:68538967</th>\n",
       "      <td>-</td>\n",
       "      <td>rs765973094</td>\n",
       "      <td>NaN</td>\n",
       "    </tr>\n",
       "    <tr>\n",
       "      <th>chr16:68539112</th>\n",
       "      <td>C</td>\n",
       "      <td>rs974327573</td>\n",
       "      <td>NaN</td>\n",
       "    </tr>\n",
       "    <tr>\n",
       "      <th>chr16:68539158</th>\n",
       "      <td>G</td>\n",
       "      <td>rs200320282</td>\n",
       "      <td>NaN</td>\n",
       "    </tr>\n",
       "    <tr>\n",
       "      <th>...</th>\n",
       "      <td>...</td>\n",
       "      <td>...</td>\n",
       "      <td>...</td>\n",
       "    </tr>\n",
       "    <tr>\n",
       "      <th>chr16:68902190</th>\n",
       "      <td>T</td>\n",
       "      <td>rs745470719</td>\n",
       "      <td>NaN</td>\n",
       "    </tr>\n",
       "    <tr>\n",
       "      <th>chr16:68902521</th>\n",
       "      <td>A</td>\n",
       "      <td>rs761094032</td>\n",
       "      <td>NaN</td>\n",
       "    </tr>\n",
       "    <tr>\n",
       "      <th>chr16:68902573</th>\n",
       "      <td>G</td>\n",
       "      <td>rs766714645</td>\n",
       "      <td>NaN</td>\n",
       "    </tr>\n",
       "    <tr>\n",
       "      <th>chr16:68902585</th>\n",
       "      <td>T</td>\n",
       "      <td>rs1424227915</td>\n",
       "      <td>NaN</td>\n",
       "    </tr>\n",
       "    <tr>\n",
       "      <th>chr16:68910092</th>\n",
       "      <td>G</td>\n",
       "      <td>rs778079684</td>\n",
       "      <td>NaN</td>\n",
       "    </tr>\n",
       "  </tbody>\n",
       "</table>\n",
       "<p>888 rows × 3 columns</p>\n",
       "</div>"
      ],
      "text/plain": [
       "               Allele Existing_variation Consequence\n",
       "Position                                            \n",
       "chr16:68538749      G        rs529122258         NaN\n",
       "chr16:68538758      T        rs891155727         NaN\n",
       "chr16:68538967      -        rs765973094         NaN\n",
       "chr16:68539112      C        rs974327573         NaN\n",
       "chr16:68539158      G        rs200320282         NaN\n",
       "...               ...                ...         ...\n",
       "chr16:68902190      T        rs745470719         NaN\n",
       "chr16:68902521      A        rs761094032         NaN\n",
       "chr16:68902573      G        rs766714645         NaN\n",
       "chr16:68902585      T       rs1424227915         NaN\n",
       "chr16:68910092      G        rs778079684         NaN\n",
       "\n",
       "[888 rows x 3 columns]"
      ]
     },
     "execution_count": 18,
     "metadata": {},
     "output_type": "execute_result"
    }
   ],
   "source": [
    "vep"
   ]
  },
  {
   "cell_type": "code",
   "execution_count": 19,
   "metadata": {},
   "outputs": [],
   "source": [
    "to_condition = to_condition.merge(vep, right_index = True, left_index = True)"
   ]
  },
  {
   "cell_type": "code",
   "execution_count": 20,
   "metadata": {},
   "outputs": [
    {
     "data": {
      "text/html": [
       "<div>\n",
       "<style scoped>\n",
       "    .dataframe tbody tr th:only-of-type {\n",
       "        vertical-align: middle;\n",
       "    }\n",
       "\n",
       "    .dataframe tbody tr th {\n",
       "        vertical-align: top;\n",
       "    }\n",
       "\n",
       "    .dataframe thead th {\n",
       "        text-align: right;\n",
       "    }\n",
       "</style>\n",
       "<table border=\"1\" class=\"dataframe\">\n",
       "  <thead>\n",
       "    <tr style=\"text-align: right;\">\n",
       "      <th></th>\n",
       "      <th>Base change</th>\n",
       "      <th>AF in cases</th>\n",
       "      <th>AF in controls</th>\n",
       "      <th>P value</th>\n",
       "      <th>OR</th>\n",
       "      <th>Allele</th>\n",
       "      <th>Existing_variation</th>\n",
       "      <th>Consequence</th>\n",
       "    </tr>\n",
       "    <tr>\n",
       "      <th>Position</th>\n",
       "      <th></th>\n",
       "      <th></th>\n",
       "      <th></th>\n",
       "      <th></th>\n",
       "      <th></th>\n",
       "      <th></th>\n",
       "      <th></th>\n",
       "      <th></th>\n",
       "    </tr>\n",
       "  </thead>\n",
       "  <tbody>\n",
       "    <tr>\n",
       "      <th>chr16:68770202</th>\n",
       "      <td>C/T</td>\n",
       "      <td>0.001265</td>\n",
       "      <td>0.007294</td>\n",
       "      <td>0.000714</td>\n",
       "      <td>0.1723</td>\n",
       "      <td>C</td>\n",
       "      <td>rs181642569</td>\n",
       "      <td>NaN</td>\n",
       "    </tr>\n",
       "    <tr>\n",
       "      <th>chr16:68696612</th>\n",
       "      <td>A/G</td>\n",
       "      <td>0.024790</td>\n",
       "      <td>0.037800</td>\n",
       "      <td>0.013520</td>\n",
       "      <td>0.6470</td>\n",
       "      <td>A</td>\n",
       "      <td>rs35789195</td>\n",
       "      <td>NaN</td>\n",
       "    </tr>\n",
       "  </tbody>\n",
       "</table>\n",
       "</div>"
      ],
      "text/plain": [
       "               Base change  AF in cases  AF in controls   P value      OR  \\\n",
       "Position                                                                    \n",
       "chr16:68770202         C/T     0.001265        0.007294  0.000714  0.1723   \n",
       "chr16:68696612         A/G     0.024790        0.037800  0.013520  0.6470   \n",
       "\n",
       "               Allele Existing_variation Consequence  \n",
       "Position                                              \n",
       "chr16:68770202      C        rs181642569         NaN  \n",
       "chr16:68696612      A         rs35789195         NaN  "
      ]
     },
     "execution_count": 20,
     "metadata": {},
     "output_type": "execute_result"
    }
   ],
   "source": [
    "to_condition"
   ]
  },
  {
   "cell_type": "code",
   "execution_count": 21,
   "metadata": {},
   "outputs": [],
   "source": [
    "s['Position'] = s.GRCh38.str.split('-').str.get(0)\n",
    "s = s.set_index('Position')\n",
    "g['P value 1st'] = s.P_cond1\n",
    "if empty_r2test == False:\n",
    "    g['P value 2nd'] = s.P_cond2\n",
    "else:\n",
    "    g['P value 2nd'] = np.NaN"
   ]
  },
  {
   "cell_type": "code",
   "execution_count": 22,
   "metadata": {},
   "outputs": [
    {
     "data": {
      "text/html": [
       "<div>\n",
       "<style scoped>\n",
       "    .dataframe tbody tr th:only-of-type {\n",
       "        vertical-align: middle;\n",
       "    }\n",
       "\n",
       "    .dataframe tbody tr th {\n",
       "        vertical-align: top;\n",
       "    }\n",
       "\n",
       "    .dataframe thead th {\n",
       "        text-align: right;\n",
       "    }\n",
       "</style>\n",
       "<table border=\"1\" class=\"dataframe\">\n",
       "  <thead>\n",
       "    <tr style=\"text-align: right;\">\n",
       "      <th></th>\n",
       "      <th>Base change</th>\n",
       "      <th>AF in cases</th>\n",
       "      <th>AF in controls</th>\n",
       "      <th>P value</th>\n",
       "      <th>OR</th>\n",
       "      <th>Existing_variation</th>\n",
       "      <th>Allele</th>\n",
       "      <th>Consequence</th>\n",
       "      <th>P value 1st</th>\n",
       "      <th>P value 2nd</th>\n",
       "    </tr>\n",
       "    <tr>\n",
       "      <th>Position</th>\n",
       "      <th></th>\n",
       "      <th></th>\n",
       "      <th></th>\n",
       "      <th></th>\n",
       "      <th></th>\n",
       "      <th></th>\n",
       "      <th></th>\n",
       "      <th></th>\n",
       "      <th></th>\n",
       "      <th></th>\n",
       "    </tr>\n",
       "  </thead>\n",
       "  <tbody>\n",
       "    <tr>\n",
       "      <th>chr16:68770202</th>\n",
       "      <td>C/T</td>\n",
       "      <td>0.001265</td>\n",
       "      <td>0.007294</td>\n",
       "      <td>0.000714</td>\n",
       "      <td>0.1723</td>\n",
       "      <td>rs181642569</td>\n",
       "      <td>C</td>\n",
       "      <td>NaN</td>\n",
       "      <td>1.0</td>\n",
       "      <td>NaN</td>\n",
       "    </tr>\n",
       "  </tbody>\n",
       "</table>\n",
       "</div>"
      ],
      "text/plain": [
       "               Base change  AF in cases  AF in controls   P value      OR  \\\n",
       "Position                                                                    \n",
       "chr16:68770202         C/T     0.001265        0.007294  0.000714  0.1723   \n",
       "\n",
       "               Existing_variation Allele  Consequence  P value 1st  \\\n",
       "Position                                                             \n",
       "chr16:68770202        rs181642569      C          NaN          1.0   \n",
       "\n",
       "                P value 2nd  \n",
       "Position                     \n",
       "chr16:68770202          NaN  "
      ]
     },
     "execution_count": 22,
     "metadata": {},
     "output_type": "execute_result"
    }
   ],
   "source": [
    "g"
   ]
  },
  {
   "cell_type": "code",
   "execution_count": 23,
   "metadata": {},
   "outputs": [],
   "source": [
    "g['Region'] = s.Signal.str.replace('s', 'r')\n",
    "\n",
    "add1 = pd.read_csv('./plink/1ADD.csv', header = None, names = [0, 'chr', 'Position', 'BP', 'A', 'test',\\\n",
    "                                                               'N', 'OR', 'STAT', 'P'])\n",
    "\n",
    "add1 = add1.set_index('Position')\n",
    "\n",
    "add2 = pd.read_csv('./plink/2ADD.csv', header = None, names = [0, 'chr', 'Position', 'BP', 'A', 'test',\\\n",
    "                                                               'N', 'OR', 'STAT', 'P'])\n",
    "\n",
    "add2 = add2.set_index('Position')\n",
    "\n",
    "to_condition['P value 1st'] = add1.P\n",
    "to_condition['P value 2nd'] = add2.P\n",
    "\n",
    "to_condition['Region'] = (range(1, 1 + len(to_condition)))\n",
    "to_condition['Region'] = 'r' + to_condition.Region.astype(str) + ' lead'\n",
    "\n",
    "to_condition\n",
    "\n",
    "frames = [g, to_condition]\n",
    "result = pd.concat(frames)\n",
    "\n",
    "result = result.sort_values('P value').loc[~result.index.duplicated(keep='last')]\n",
    "\n",
    "result.to_csv('table_for_paper.csv')"
   ]
  },
  {
   "cell_type": "code",
   "execution_count": 24,
   "metadata": {},
   "outputs": [
    {
     "data": {
      "text/html": [
       "<div>\n",
       "<style scoped>\n",
       "    .dataframe tbody tr th:only-of-type {\n",
       "        vertical-align: middle;\n",
       "    }\n",
       "\n",
       "    .dataframe tbody tr th {\n",
       "        vertical-align: top;\n",
       "    }\n",
       "\n",
       "    .dataframe thead th {\n",
       "        text-align: right;\n",
       "    }\n",
       "</style>\n",
       "<table border=\"1\" class=\"dataframe\">\n",
       "  <thead>\n",
       "    <tr style=\"text-align: right;\">\n",
       "      <th></th>\n",
       "      <th>Base change</th>\n",
       "      <th>AF in cases</th>\n",
       "      <th>AF in controls</th>\n",
       "      <th>P value</th>\n",
       "      <th>OR</th>\n",
       "      <th>Existing_variation</th>\n",
       "      <th>Allele</th>\n",
       "      <th>Consequence</th>\n",
       "      <th>P value 1st</th>\n",
       "      <th>P value 2nd</th>\n",
       "      <th>Region</th>\n",
       "    </tr>\n",
       "    <tr>\n",
       "      <th>Position</th>\n",
       "      <th></th>\n",
       "      <th></th>\n",
       "      <th></th>\n",
       "      <th></th>\n",
       "      <th></th>\n",
       "      <th></th>\n",
       "      <th></th>\n",
       "      <th></th>\n",
       "      <th></th>\n",
       "      <th></th>\n",
       "      <th></th>\n",
       "    </tr>\n",
       "  </thead>\n",
       "  <tbody>\n",
       "    <tr>\n",
       "      <th>chr16:68770202</th>\n",
       "      <td>C/T</td>\n",
       "      <td>0.001265</td>\n",
       "      <td>0.007294</td>\n",
       "      <td>0.000714</td>\n",
       "      <td>0.1723</td>\n",
       "      <td>rs181642569</td>\n",
       "      <td>C</td>\n",
       "      <td>NaN</td>\n",
       "      <td>NaN</td>\n",
       "      <td>NaN</td>\n",
       "      <td>r1 lead</td>\n",
       "    </tr>\n",
       "    <tr>\n",
       "      <th>chr16:68696612</th>\n",
       "      <td>A/G</td>\n",
       "      <td>0.024790</td>\n",
       "      <td>0.037800</td>\n",
       "      <td>0.013520</td>\n",
       "      <td>0.6470</td>\n",
       "      <td>rs35789195</td>\n",
       "      <td>A</td>\n",
       "      <td>NaN</td>\n",
       "      <td>0.007683</td>\n",
       "      <td>NaN</td>\n",
       "      <td>r2 lead</td>\n",
       "    </tr>\n",
       "  </tbody>\n",
       "</table>\n",
       "</div>"
      ],
      "text/plain": [
       "               Base change  AF in cases  AF in controls   P value      OR  \\\n",
       "Position                                                                    \n",
       "chr16:68770202         C/T     0.001265        0.007294  0.000714  0.1723   \n",
       "chr16:68696612         A/G     0.024790        0.037800  0.013520  0.6470   \n",
       "\n",
       "               Existing_variation Allele Consequence  P value 1st  \\\n",
       "Position                                                            \n",
       "chr16:68770202        rs181642569      C         NaN          NaN   \n",
       "chr16:68696612         rs35789195      A         NaN     0.007683   \n",
       "\n",
       "                P value 2nd   Region  \n",
       "Position                              \n",
       "chr16:68770202          NaN  r1 lead  \n",
       "chr16:68696612          NaN  r2 lead  "
      ]
     },
     "execution_count": 24,
     "metadata": {},
     "output_type": "execute_result"
    }
   ],
   "source": [
    "result"
   ]
  },
  {
   "cell_type": "code",
   "execution_count": 25,
   "metadata": {},
   "outputs": [],
   "source": [
    "carriers = pd.read_csv('/mnt/Genoma/drobles/ccastaneda/gwas-reseq/all_carriers', delimiter = '\\t')"
   ]
  },
  {
   "cell_type": "code",
   "execution_count": 26,
   "metadata": {},
   "outputs": [],
   "source": [
    "carriers = carriers.set_index('SNP')"
   ]
  },
  {
   "cell_type": "code",
   "execution_count": 27,
   "metadata": {},
   "outputs": [],
   "source": [
    "non_carriers = pd.read_csv('/mnt/Genoma/drobles/ccastaneda/gwas-reseq/all_non_carriers', delimiter = '\\t')"
   ]
  },
  {
   "cell_type": "code",
   "execution_count": 28,
   "metadata": {},
   "outputs": [],
   "source": [
    "non_carriers = non_carriers.set_index('SNP')"
   ]
  },
  {
   "cell_type": "code",
   "execution_count": 29,
   "metadata": {},
   "outputs": [],
   "source": [
    "carriers = carriers.merge(non_carriers, right_index = True, left_index = True).reset_index()\n",
    "carriers['POS'] = carriers.SNP.str.split(':').str.get(0) + ':' + carriers.SNP.str.split(':').str.get(1)"
   ]
  },
  {
   "cell_type": "code",
   "execution_count": 30,
   "metadata": {},
   "outputs": [],
   "source": [
    "carriers = carriers.set_index('POS')"
   ]
  },
  {
   "cell_type": "code",
   "execution_count": 31,
   "metadata": {},
   "outputs": [],
   "source": [
    "table_for_Dave = carriers.merge(result, right_index = True, left_index = True)"
   ]
  },
  {
   "cell_type": "code",
   "execution_count": 32,
   "metadata": {},
   "outputs": [],
   "source": [
    "table_for_Dave['ref'] = table_for_Dave.SNP.str.split(':').str.get(-2)\n",
    "table_for_Dave['alt'] = table_for_Dave.SNP.str.split(':').str.get(-1)"
   ]
  },
  {
   "cell_type": "code",
   "execution_count": 33,
   "metadata": {},
   "outputs": [],
   "source": [
    "table_for_Dave = table_for_Dave.drop(axis = 1, labels = 'Base change')"
   ]
  },
  {
   "cell_type": "code",
   "execution_count": 34,
   "metadata": {},
   "outputs": [],
   "source": [
    "table_for_Dave.to_csv('table_for_Dave.tsv', sep = '\\t')"
   ]
  },
  {
   "cell_type": "code",
   "execution_count": 35,
   "metadata": {},
   "outputs": [],
   "source": [
    "add1['-logP'] = -(np.log10(add1.P))\n",
    "add2['-logP'] = -(np.log10(add2.P))"
   ]
  },
  {
   "cell_type": "code",
   "execution_count": 36,
   "metadata": {},
   "outputs": [
    {
     "data": {
      "image/png": "[encoded data removed]",
      "text/plain": [
       "<Figure size 432x288 with 3 Axes>"
      ]
     },
     "metadata": {
      "needs_background": "light"
     },
     "output_type": "display_data"
    },
    {
     "data": {
      "text/plain": [
       "<Figure size 432x288 with 0 Axes>"
      ]
     },
     "metadata": {},
     "output_type": "display_data"
    }
   ],
   "source": [
    "fig, ax = plt.subplots(3,1, sharey=True, sharex=True)\n",
    "\n",
    "ax[0].scatter(fisher['BP'], fisher['-logP'])\n",
    "ax[1].scatter(add1['BP'], add1['-logP'])\n",
    "ax[2].scatter(add2['BP'], add2['-logP'])\n",
    "plt.show()\n",
    "plt.savefig('regresions.tiff')"
   ]
  },
  {
   "cell_type": "code",
   "execution_count": null,
   "metadata": {},
   "outputs": [],
   "source": []
  },
  {
   "cell_type": "code",
   "execution_count": null,
   "metadata": {},
   "outputs": [],
   "source": []
  }
 ],
 "metadata": {
  "kernelspec": {
   "display_name": "Python 3",
   "language": "python",
   "name": "python3"
  },
  "language_info": {
   "codemirror_mode": {
    "name": "ipython",
    "version": 3
   },
   "file_extension": ".py",
   "mimetype": "text/x-python",
   "name": "python",
   "nbconvert_exporter": "python",
   "pygments_lexer": "ipython3",
   "version": "3.8.5"
  }
 },
 "nbformat": 4,
 "nbformat_minor": 4
}
